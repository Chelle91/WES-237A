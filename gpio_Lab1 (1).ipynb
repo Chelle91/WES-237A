{
 "cells": [
  {
   "cell_type": "markdown",
   "metadata": {},
   "source": [
    "# Interacting with GPIO from MicroBlaze"
   ]
  },
  {
   "cell_type": "code",
   "execution_count": 2,
   "metadata": {},
   "outputs": [
    {
     "data": {
      "application/javascript": [
       "\n",
       "try {\n",
       "require(['notebook/js/codecell'], function(codecell) {\n",
       "  codecell.CodeCell.options_default.highlight_modes[\n",
       "      'magic_text/x-csrc'] = {'reg':[/^%%microblaze/]};\n",
       "  Jupyter.notebook.events.one('kernel_ready.Kernel', function(){\n",
       "      Jupyter.notebook.get_cells().map(function(cell){\n",
       "          if (cell.cell_type == 'code'){ cell.auto_highlight(); } }) ;\n",
       "  });\n",
       "});\n",
       "} catch (e) {};\n"
      ]
     },
     "metadata": {},
     "output_type": "display_data"
    },
    {
     "data": {
      "application/javascript": [
       "\n",
       "try {\n",
       "require(['notebook/js/codecell'], function(codecell) {\n",
       "  codecell.CodeCell.options_default.highlight_modes[\n",
       "      'magic_text/x-csrc'] = {'reg':[/^%%pybind11/]};\n",
       "  Jupyter.notebook.events.one('kernel_ready.Kernel', function(){\n",
       "      Jupyter.notebook.get_cells().map(function(cell){\n",
       "          if (cell.cell_type == 'code'){ cell.auto_highlight(); } }) ;\n",
       "  });\n",
       "});\n",
       "} catch (e) {};\n"
      ]
     },
     "metadata": {},
     "output_type": "display_data"
    }
   ],
   "source": [
    "from pynq.overlays.base import BaseOverlay\n",
    "import time\n",
    "from datetime import datetime\n",
    "base = BaseOverlay(\"base.bit\")"
   ]
  },
  {
   "cell_type": "code",
   "execution_count": 11,
   "metadata": {},
   "outputs": [],
   "source": [
    "%%microblaze base.PMODB\n",
    "\n",
    "#include \"gpio.h\"\n",
    "#include \"pyprintf.h\"\n",
    "\n",
    "//Function to turn on/off a selected pin of PMODB\n",
    "void write_gpio(unsigned int pin, unsigned int val){\n",
    "    if (val > 1){\n",
    "        pyprintf(\"pin value must be 0 or 1\");\n",
    "    }\n",
    "    gpio pin_out = gpio_open(pin);\n",
    "    gpio_set_direction(pin_out, GPIO_OUT);\n",
    "    gpio_write(pin_out, val);\n",
    "}\n",
    "\n",
    "//Function to read the value of a selected pin of PMODB\n",
    "unsigned int read_gpio(unsigned int pin){\n",
    "    gpio pin_in = gpio_open(pin);\n",
    "    gpio_set_direction(pin_in, GPIO_IN);\n",
    "    return gpio_read(pin_in);\n",
    "}"
   ]
  },
  {
   "cell_type": "code",
   "execution_count": 13,
   "metadata": {},
   "outputs": [
    {
     "name": "stdout",
     "output_type": "stream",
     "text": [
      "pin value must be 0 or 1"
     ]
    },
    {
     "data": {
      "text/plain": [
       "1"
      ]
     },
     "execution_count": 13,
     "metadata": {},
     "output_type": "execute_result"
    }
   ],
   "source": [
    "write_gpio(0, 2)\n",
    "read_gpio(1)"
   ]
  },
  {
   "cell_type": "markdown",
   "metadata": {},
   "source": [
    "# Multi-tasking with MicroBlaze "
   ]
  },
  {
   "cell_type": "code",
   "execution_count": 5,
   "metadata": {},
   "outputs": [],
   "source": [
    "base = BaseOverlay(\"base.bit\")"
   ]
  },
  {
   "cell_type": "code",
   "execution_count": 6,
   "metadata": {},
   "outputs": [],
   "source": [
    "%%microblaze base.PMODA\n",
    "\n",
    "#include \"gpio.h\"\n",
    "#include \"pyprintf.h\"\n",
    "\n",
    "//Function to turn on/off a selected pin of PMODA\n",
    "void write_gpio(unsigned int pin, unsigned int val){\n",
    "    if (val > 1){\n",
    "        pyprintf(\"pin value must be 0 or 1\");\n",
    "    }\n",
    "    gpio pin_out = gpio_open(pin);\n",
    "    gpio_set_direction(pin_out, GPIO_OUT);\n",
    "    gpio_write(pin_out, val);\n",
    "}\n",
    "\n",
    "//Function to read the value of a selected pin of PMODA\n",
    "unsigned int read_gpio(unsigned int pin){\n",
    "    gpio pin_in = gpio_open(pin);\n",
    "    gpio_set_direction(pin_in, GPIO_IN);\n",
    "    return gpio_read(pin_in);\n",
    "}\n",
    "\n",
    "//Multitasking the microblaze for a simple function\n",
    "int add(int a, int b){\n",
    "    return a + b;\n",
    "}"
   ]
  },
  {
   "cell_type": "code",
   "execution_count": 7,
   "metadata": {},
   "outputs": [
    {
     "data": {
      "text/plain": [
       "1"
      ]
     },
     "execution_count": 7,
     "metadata": {},
     "output_type": "execute_result"
    }
   ],
   "source": [
    "val = 1\n",
    "write_gpio(0, val)\n",
    "read_gpio(1)"
   ]
  },
  {
   "cell_type": "code",
   "execution_count": 8,
   "metadata": {},
   "outputs": [
    {
     "data": {
      "text/plain": [
       "32"
      ]
     },
     "execution_count": 8,
     "metadata": {},
     "output_type": "execute_result"
    }
   ],
   "source": [
    "add(2, 30)"
   ]
  },
  {
   "cell_type": "markdown",
   "metadata": {},
   "source": [
    "# Lab work\n",
    "Use the code from the second cell as a template and write a code to use two pins (0 and 1) for send and two pins (2 and 3) for receive. You should be able to send 2bits (0~3) over GPIO. You'll need to hardwire from the send pins to the receive pins."
   ]
  },
  {
   "cell_type": "code",
   "execution_count": 3,
   "metadata": {},
   "outputs": [],
   "source": [
    "from pynq.overlays.base import BaseOverlay\n",
    "base = BaseOverlay(\"base.bit\")"
   ]
  },
  {
   "cell_type": "code",
   "execution_count": 4,
   "metadata": {},
   "outputs": [],
   "source": [
    "%%microblaze base.PMODB\n",
    "#include \"gpio.h\"\n",
    "#include \"pyprintf.h\"\n",
    "\n",
    "/**\n",
    " * Writes a 2-bit value to GPIO pins 0 and 1\n",
    " * Pin configuration:\n",
    " * - Pin 0: Least Significant Bit (LSB)\n",
    " * - Pin 1: Most Significant Bit (MSB)\n",
    " * \n",
    " * @param value: Integer between 0-3 representing the 2-bit value to write\n",
    " * @return: Returns the written value, or 4 if input was invalid\n",
    " */\n",
    "unsigned int write_2bits(unsigned int value) {\n",
    "    // Input validation - ensure value is 2 bits (0-3)\n",
    "    if (value > 3) {\n",
    "        pyprintf(\"Value must be between 0 and 3\\n\");\n",
    "        return 4;  // Return error code\n",
    "    }\n",
    "    \n",
    "    // Extract individual bits from the input value\n",
    "    unsigned int bit0 = value & 0x1;        // Extract LSB using bitwise AND with 1\n",
    "    unsigned int bit1 = (value >> 1) & 0x1; // Shift right by 1 and extract MSB\n",
    "    \n",
    "    // Initialize GPIO pins for output\n",
    "    gpio pin0_out = gpio_open(0);  // LSB pin\n",
    "    gpio pin1_out = gpio_open(1);  // MSB pin\n",
    "    \n",
    "    // Configure pins as outputs\n",
    "    gpio_set_direction(pin0_out, GPIO_OUT);\n",
    "    gpio_set_direction(pin1_out, GPIO_OUT);\n",
    "    \n",
    "    // Write values to pins\n",
    "    gpio_write(pin0_out, bit0);  // Write LSB to pin 0\n",
    "    gpio_write(pin1_out, bit1);  // Write MSB to pin 1\n",
    "    \n",
    "    return value;  // Return the successfully written value\n",
    "}\n",
    "\n",
    "/**\n",
    " * Reads a 2-bit value from GPIO pins 2 and 3\n",
    " * Pin configuration:\n",
    " * - Pin 2: Least Significant Bit (LSB)\n",
    " * - Pin 3: Most Significant Bit (MSB)\n",
    " * \n",
    " * @return: Integer between 0-3 representing the read 2-bit value\n",
    " */\n",
    "unsigned int read_2bits() {\n",
    "    // Initialize GPIO pins for input\n",
    "    gpio pin2_in = gpio_open(2);  // LSB pin\n",
    "    gpio pin3_in = gpio_open(3);  // MSB pin\n",
    "    \n",
    "    // Configure pins as inputs\n",
    "    gpio_set_direction(pin2_in, GPIO_IN);\n",
    "    gpio_set_direction(pin3_in, GPIO_IN);\n",
    "    \n",
    "    // Read values from pins\n",
    "    unsigned int bit0 = gpio_read(pin2_in);  // Read LSB from pin 2\n",
    "    unsigned int bit1 = gpio_read(pin3_in);  // Read MSB from pin 3\n",
    "    \n",
    "    // Combine bits into final value:\n",
    "    // Shift MSB left by 1 position and combine with LSB using bitwise OR\n",
    "    return (bit1 << 1) | bit0;\n",
    "}"
   ]
  },
  {
   "cell_type": "code",
   "execution_count": 5,
   "metadata": {},
   "outputs": [
    {
     "data": {
      "text/plain": [
       "3"
      ]
     },
     "execution_count": 5,
     "metadata": {},
     "output_type": "execute_result"
    }
   ],
   "source": [
    "# Test writing different values:\n",
    "write_2bits(0)   # Write 00 (binary) = 0 (decimal)\n",
    "write_2bits(1)   # Write 01 (binary) = 1 (decimal)\n",
    "write_2bits(2)   # Write 10 (binary) = 2 (decimal)\n",
    "write_2bits(3)   # Write 11 (binary) = 3 (decimal)\n",
    "\n",
    "# Read the current value\n",
    "read_2bits()     # Read back the value from pins 2 and 3"
   ]
  },
  {
   "cell_type": "code",
   "execution_count": null,
   "metadata": {},
   "outputs": [],
   "source": []
  }
 ],
 "metadata": {
  "kernelspec": {
   "display_name": "Python 3 (ipykernel)",
   "language": "python",
   "name": "python3"
  },
  "language_info": {
   "codemirror_mode": {
    "name": "ipython",
    "version": 3
   },
   "file_extension": ".py",
   "mimetype": "text/x-python",
   "name": "python",
   "nbconvert_exporter": "python",
   "pygments_lexer": "ipython3",
   "version": "3.10.4"
  }
 },
 "nbformat": 4,
 "nbformat_minor": 2
}
