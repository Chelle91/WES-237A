{
 "cells": [
  {
   "cell_type": "code",
   "execution_count": 1,
   "metadata": {},
   "outputs": [
    {
     "data": {
      "application/javascript": [
       "\n",
       "try {\n",
       "require(['notebook/js/codecell'], function(codecell) {\n",
       "  codecell.CodeCell.options_default.highlight_modes[\n",
       "      'magic_text/x-csrc'] = {'reg':[/^%%microblaze/]};\n",
       "  Jupyter.notebook.events.one('kernel_ready.Kernel', function(){\n",
       "      Jupyter.notebook.get_cells().map(function(cell){\n",
       "          if (cell.cell_type == 'code'){ cell.auto_highlight(); } }) ;\n",
       "  });\n",
       "});\n",
       "} catch (e) {};\n"
      ]
     },
     "metadata": {},
     "output_type": "display_data"
    },
    {
     "data": {
      "application/javascript": [
       "\n",
       "try {\n",
       "require(['notebook/js/codecell'], function(codecell) {\n",
       "  codecell.CodeCell.options_default.highlight_modes[\n",
       "      'magic_text/x-csrc'] = {'reg':[/^%%pybind11/]};\n",
       "  Jupyter.notebook.events.one('kernel_ready.Kernel', function(){\n",
       "      Jupyter.notebook.get_cells().map(function(cell){\n",
       "          if (cell.cell_type == 'code'){ cell.auto_highlight(); } }) ;\n",
       "  });\n",
       "});\n",
       "} catch (e) {};\n"
      ]
     },
     "metadata": {},
     "output_type": "display_data"
    }
   ],
   "source": [
    "import time\n",
    "from pynq.overlays.base import BaseOverlay\n",
    "import socket\n",
    "\n",
    "base = BaseOverlay(\"base.bit\")\n",
    "btns = base.btns_gpio\n",
    "leds = base.leds"
   ]
  },
  {
   "cell_type": "markdown",
   "metadata": {},
   "source": [
    "# Sockets\n",
    "\n",
    "This notebook has both a client and a server functionality. One PYNQ board in the group will be the client and SENDS the message. Another PYNQ board will be the server and RECEIVES the message."
   ]
  },
  {
   "cell_type": "markdown",
   "metadata": {},
   "source": [
    "## Server\n",
    "\n",
    "Here, we'll build the server code to LISTEN for a message from a specific PYNQ board.\n",
    "\n",
    "When we send/receive messages, we need to pieces of information which will tell us where to send the information. First, we need the IP address of our friend. Second, we need to chose a port to listen on. For an analogy, Alice expects her friend, Bob, to deliver a package to our back door. With this information, ALICE (server ip address) can wait at the BACK DOOR (port) for BOB (client ip address) to deliver the package.\n",
    "\n",
    "Format of the information\n",
    " ipv4 address: ###.###.###.### (no need for leading zeros if the number is less than three digits)\n",
    " port: ##### (it could be 4 or 5 digits long, but must be >1024)\n",
    " \n",
    "Use the socket documentation (Section 18.1.3) to find the appropriate functions https://python.readthedocs.io/en/latest/library/socket.html\n"
   ]
  },
  {
   "cell_type": "code",
   "execution_count": 9,
   "metadata": {},
   "outputs": [
    {
     "ename": "OSError",
     "evalue": "[Errno 98] Address already in use",
     "output_type": "error",
     "traceback": [
      "\u001b[0;31m---------------------------------------------------------------------------\u001b[0m",
      "\u001b[0;31mOSError\u001b[0m                                   Traceback (most recent call last)",
      "Input \u001b[0;32mIn [9]\u001b[0m, in \u001b[0;36m<cell line: 8>\u001b[0;34m()\u001b[0m\n\u001b[1;32m      6\u001b[0m \u001b[38;5;66;03m# Bind the socket to the port\u001b[39;00m\n\u001b[1;32m      7\u001b[0m server_address \u001b[38;5;241m=\u001b[39m (\u001b[38;5;124m'\u001b[39m\u001b[38;5;124m192.168.0.101\u001b[39m\u001b[38;5;124m'\u001b[39m, \u001b[38;5;241m12345\u001b[39m)  \n\u001b[0;32m----> 8\u001b[0m \u001b[43msock\u001b[49m\u001b[38;5;241;43m.\u001b[39;49m\u001b[43mbind\u001b[49m\u001b[43m(\u001b[49m\u001b[43mserver_address\u001b[49m\u001b[43m)\u001b[49m\n\u001b[1;32m     10\u001b[0m \u001b[38;5;66;03m# Listen for incoming connections\u001b[39;00m\n\u001b[1;32m     11\u001b[0m sock\u001b[38;5;241m.\u001b[39mlisten()\n",
      "\u001b[0;31mOSError\u001b[0m: [Errno 98] Address already in use"
     ]
    }
   ],
   "source": [
    "import socket\n",
    "\n",
    "# Create a TCP/IP socket\n",
    "sock = socket.socket(socket.AF_INET, socket.SOCK_STREAM)\n",
    "\n",
    "# Bind the socket to the port\n",
    "server_address = ('192.168.0.101', 12345)  \n",
    "sock.bind(server_address)\n",
    "\n",
    "# Listen for incoming connections\n",
    "sock.listen()\n",
    "\n",
    "# Wait for a connection\n",
    "print('waiting for a connection')\n",
    "connection, client_address = sock.accept()\n",
    "\n",
    "try:\n",
    "    print('connection from', client_address)\n",
    "    \n",
    "    # Receive the data in small chunks\n",
    "    while True:\n",
    "        data = connection.recv(16)\n",
    "        print('received {!r}'.format(data))\n",
    "        if not data:\n",
    "            break\n",
    "\n",
    "finally:\n",
    "    # Clean up the connection\n",
    "    connection.close()\n",
    "    sock.close()"
   ]
  },
  {
   "cell_type": "markdown",
   "metadata": {},
   "source": [
    "## Client\n",
    "\n",
    "Now, we can implement the CLIENT code. \n",
    "\n",
    "Back to the analogy, now we're interested in delivering a package to our friend's back door. This means BOB (client ip address) is delivering a package to ALICE (server ip address) at her BACK DOOR (port)\n",
    "\n",
    "**Remember to start the server before running the client code**"
   ]
  },
  {
   "cell_type": "code",
   "execution_count": 10,
   "metadata": {},
   "outputs": [
    {
     "name": "stdout",
     "output_type": "stream",
     "text": [
      "Attempting to connect...\n",
      "Client connected.\n"
     ]
    }
   ],
   "source": [
    "import socket\n",
    "\n",
    "# Create a TCP/IP socket\n",
    "sock = socket.socket(socket.AF_INET, socket.SOCK_STREAM)\n",
    "\n",
    "# Connect the socket to the server\n",
    "print(\"Attempting to connect...\")\n",
    "server_address = ('192.168.0.104', 65432)  \n",
    "sock.connect(server_address)\n",
    "print(\"Client connected.\")\n",
    "\n",
    "\n",
    "try:\n",
    "    # Send data\n",
    "    message = 'Hello world!\\n Hi\\n Saturday\\n '\n",
    "    sock.sendall(message.encode())\n",
    "\n",
    "finally:\n",
    "    # Clean up the connection\n",
    "    sock.close()"
   ]
  },
  {
   "cell_type": "markdown",
   "metadata": {},
   "source": [
    "On your server, you should see the message and then the server will shutdown! When we close a socket, both the client and the server are disconnected from the port.\n",
    "\n",
    "Instead, change the function above to send 5 messages before closing.\n",
    "\n",
    "The pseudocode looks like this\n",
    "\n",
    "* connect the socket\n",
    "* for i in range(5)\n",
    "    * msg = input(\"Message to send: \")\n",
    "    * send the message (msg)\n",
    "* close the socket"
   ]
  },
  {
   "cell_type": "markdown",
   "metadata": {},
   "source": []
  }
 ],
 "metadata": {
  "kernelspec": {
   "display_name": "Python 3 (ipykernel)",
   "language": "python",
   "name": "python3"
  },
  "language_info": {
   "codemirror_mode": {
    "name": "ipython",
    "version": 3
   },
   "file_extension": ".py",
   "mimetype": "text/x-python",
   "name": "python",
   "nbconvert_exporter": "python",
   "pygments_lexer": "ipython3",
   "version": "3.10.4"
  }
 },
 "nbformat": 4,
 "nbformat_minor": 2
}
