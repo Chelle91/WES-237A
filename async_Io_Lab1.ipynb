{
 "cells": [
  {
   "cell_type": "markdown",
   "metadata": {},
   "source": [
    "# Importing some libraries"
   ]
  },
  {
   "cell_type": "code",
   "execution_count": 1,
   "metadata": {},
   "outputs": [
    {
     "data": {
      "application/javascript": [
       "\n",
       "try {\n",
       "require(['notebook/js/codecell'], function(codecell) {\n",
       "  codecell.CodeCell.options_default.highlight_modes[\n",
       "      'magic_text/x-csrc'] = {'reg':[/^%%microblaze/]};\n",
       "  Jupyter.notebook.events.one('kernel_ready.Kernel', function(){\n",
       "      Jupyter.notebook.get_cells().map(function(cell){\n",
       "          if (cell.cell_type == 'code'){ cell.auto_highlight(); } }) ;\n",
       "  });\n",
       "});\n",
       "} catch (e) {};\n"
      ]
     },
     "metadata": {},
     "output_type": "display_data"
    },
    {
     "data": {
      "application/javascript": [
       "\n",
       "try {\n",
       "require(['notebook/js/codecell'], function(codecell) {\n",
       "  codecell.CodeCell.options_default.highlight_modes[\n",
       "      'magic_text/x-csrc'] = {'reg':[/^%%pybind11/]};\n",
       "  Jupyter.notebook.events.one('kernel_ready.Kernel', function(){\n",
       "      Jupyter.notebook.get_cells().map(function(cell){\n",
       "          if (cell.cell_type == 'code'){ cell.auto_highlight(); } }) ;\n",
       "  });\n",
       "});\n",
       "} catch (e) {};\n"
      ]
     },
     "metadata": {},
     "output_type": "display_data"
    }
   ],
   "source": [
    "from pynq.overlays.base import BaseOverlay\n",
    "import pynq.lib.rgbled as rgbled \n",
    "import time"
   ]
  },
  {
   "cell_type": "markdown",
   "metadata": {},
   "source": [
    "# Programming the PL"
   ]
  },
  {
   "cell_type": "code",
   "execution_count": 2,
   "metadata": {},
   "outputs": [],
   "source": [
    "base = BaseOverlay(\"base.bit\")"
   ]
  },
  {
   "cell_type": "markdown",
   "metadata": {},
   "source": [
    "# Defining buttons and LEDs"
   ]
  },
  {
   "cell_type": "code",
   "execution_count": 3,
   "metadata": {},
   "outputs": [],
   "source": [
    "btns = base.btns_gpio\n",
    "led4 = rgbled.RGBLED(4)\n",
    "led5 = rgbled.RGBLED(5)"
   ]
  },
  {
   "cell_type": "markdown",
   "metadata": {},
   "source": [
    "# Using a loop to blink the LEDS and read from buttons"
   ]
  },
  {
   "cell_type": "code",
   "execution_count": 4,
   "metadata": {},
   "outputs": [
    {
     "ename": "KeyboardInterrupt",
     "evalue": "",
     "output_type": "error",
     "traceback": [
      "\u001b[0;31m---------------------------------------------------------------------------\u001b[0m",
      "\u001b[0;31mKeyboardInterrupt\u001b[0m                         Traceback (most recent call last)",
      "Input \u001b[0;32mIn [4]\u001b[0m, in \u001b[0;36m<cell line: 1>\u001b[0;34m()\u001b[0m\n\u001b[1;32m     35\u001b[0m \u001b[38;5;28;01mif\u001b[39;00m btns\u001b[38;5;241m.\u001b[39mread() \u001b[38;5;241m!=\u001b[39m \u001b[38;5;241m0\u001b[39m:\n\u001b[1;32m     36\u001b[0m     \u001b[38;5;28;01mbreak\u001b[39;00m\n\u001b[0;32m---> 37\u001b[0m \u001b[43mtime\u001b[49m\u001b[38;5;241;43m.\u001b[39;49m\u001b[43msleep\u001b[49m\u001b[43m(\u001b[49m\u001b[38;5;241;43m0.1\u001b[39;49m\u001b[43m)\u001b[49m\n\u001b[1;32m     38\u001b[0m led4\u001b[38;5;241m.\u001b[39mwrite(\u001b[38;5;241m0x0\u001b[39m)\n\u001b[1;32m     39\u001b[0m led5\u001b[38;5;241m.\u001b[39mwrite(\u001b[38;5;241m0x0\u001b[39m)\n",
      "\u001b[0;31mKeyboardInterrupt\u001b[0m: "
     ]
    }
   ],
   "source": [
    "while True:\n",
    "    led4.write(0x1)\n",
    "    led5.write(0x7)\n",
    "    if btns.read() != 0:\n",
    "        break\n",
    "    time.sleep(0.1)\n",
    "    led4.write(0x0)\n",
    "    led5.write(0x0)\n",
    "    if btns.read() != 0:\n",
    "        break\n",
    "    time.sleep(0.05)\n",
    "    led4.write(0x1)\n",
    "    led5.write(0x7)\n",
    "    if btns.read() != 0:\n",
    "        break\n",
    "    time.sleep(0.1)\n",
    "    led4.write(0x0)\n",
    "    led5.write(0x0)\n",
    "    if btns.read() != 0:\n",
    "        break\n",
    "    time.sleep(0.05)\n",
    "    \n",
    "    led4.write(0x7)\n",
    "    led5.write(0x4)\n",
    "    if btns.read() != 0:\n",
    "        break\n",
    "    time.sleep(0.1)\n",
    "    led4.write(0x0)\n",
    "    led5.write(0x0)\n",
    "    if btns.read() != 0:\n",
    "        break\n",
    "    time.sleep(0.05)\n",
    "    led4.write(0x7)\n",
    "    led5.write(0x4)\n",
    "    if btns.read() != 0:\n",
    "        break\n",
    "    time.sleep(0.1)\n",
    "    led4.write(0x0)\n",
    "    led5.write(0x0)\n",
    "    if btns.read() != 0:\n",
    "        break\n",
    "    time.sleep(0.05)\n",
    "\n",
    "led4.write(0x0)\n",
    "led5.write(0x0)\n"
   ]
  },
  {
   "cell_type": "markdown",
   "metadata": {},
   "source": [
    "# Using asyncio to blink the LEDS and read from buttons"
   ]
  },
  {
   "cell_type": "code",
   "execution_count": 5,
   "metadata": {},
   "outputs": [
    {
     "ename": "KeyboardInterrupt",
     "evalue": "",
     "output_type": "error",
     "traceback": [
      "\u001b[0;31m---------------------------------------------------------------------------\u001b[0m",
      "\u001b[0;31mKeyboardInterrupt\u001b[0m                         Traceback (most recent call last)",
      "Input \u001b[0;32mIn [5]\u001b[0m, in \u001b[0;36m<cell line: 44>\u001b[0;34m()\u001b[0m\n\u001b[1;32m     42\u001b[0m loop\u001b[38;5;241m.\u001b[39mcreate_task(flash_leds())\n\u001b[1;32m     43\u001b[0m loop\u001b[38;5;241m.\u001b[39mcreate_task(get_btns(loop))\n\u001b[0;32m---> 44\u001b[0m \u001b[43mloop\u001b[49m\u001b[38;5;241;43m.\u001b[39;49m\u001b[43mrun_forever\u001b[49m\u001b[43m(\u001b[49m\u001b[43m)\u001b[49m\n\u001b[1;32m     45\u001b[0m loop\u001b[38;5;241m.\u001b[39mclose()        \n\u001b[1;32m     46\u001b[0m led4\u001b[38;5;241m.\u001b[39mwrite(\u001b[38;5;241m0x0\u001b[39m)\n",
      "File \u001b[0;32m/usr/local/share/pynq-venv/lib/python3.10/site-packages/nest_asyncio.py:72\u001b[0m, in \u001b[0;36m_patch_loop.<locals>.run_forever\u001b[0;34m(self)\u001b[0m\n\u001b[1;32m     70\u001b[0m \u001b[38;5;28;01mwith\u001b[39;00m manage_run(\u001b[38;5;28mself\u001b[39m), manage_asyncgens(\u001b[38;5;28mself\u001b[39m):\n\u001b[1;32m     71\u001b[0m     \u001b[38;5;28;01mwhile\u001b[39;00m \u001b[38;5;28;01mTrue\u001b[39;00m:\n\u001b[0;32m---> 72\u001b[0m         \u001b[38;5;28;43mself\u001b[39;49m\u001b[38;5;241;43m.\u001b[39;49m\u001b[43m_run_once\u001b[49m\u001b[43m(\u001b[49m\u001b[43m)\u001b[49m\n\u001b[1;32m     73\u001b[0m         \u001b[38;5;28;01mif\u001b[39;00m \u001b[38;5;28mself\u001b[39m\u001b[38;5;241m.\u001b[39m_stopping:\n\u001b[1;32m     74\u001b[0m             \u001b[38;5;28;01mbreak\u001b[39;00m\n",
      "File \u001b[0;32m/usr/local/share/pynq-venv/lib/python3.10/site-packages/nest_asyncio.py:106\u001b[0m, in \u001b[0;36m_patch_loop.<locals>._run_once\u001b[0;34m(self)\u001b[0m\n\u001b[1;32m     99\u001b[0m     heappop(scheduled)\n\u001b[1;32m    101\u001b[0m timeout \u001b[38;5;241m=\u001b[39m (\n\u001b[1;32m    102\u001b[0m     \u001b[38;5;241m0\u001b[39m \u001b[38;5;28;01mif\u001b[39;00m ready \u001b[38;5;129;01mor\u001b[39;00m \u001b[38;5;28mself\u001b[39m\u001b[38;5;241m.\u001b[39m_stopping\n\u001b[1;32m    103\u001b[0m     \u001b[38;5;28;01melse\u001b[39;00m \u001b[38;5;28mmin\u001b[39m(\u001b[38;5;28mmax\u001b[39m(\n\u001b[1;32m    104\u001b[0m         scheduled[\u001b[38;5;241m0\u001b[39m]\u001b[38;5;241m.\u001b[39m_when \u001b[38;5;241m-\u001b[39m \u001b[38;5;28mself\u001b[39m\u001b[38;5;241m.\u001b[39mtime(), \u001b[38;5;241m0\u001b[39m), \u001b[38;5;241m86400\u001b[39m) \u001b[38;5;28;01mif\u001b[39;00m scheduled\n\u001b[1;32m    105\u001b[0m     \u001b[38;5;28;01melse\u001b[39;00m \u001b[38;5;28;01mNone\u001b[39;00m)\n\u001b[0;32m--> 106\u001b[0m event_list \u001b[38;5;241m=\u001b[39m \u001b[38;5;28;43mself\u001b[39;49m\u001b[38;5;241;43m.\u001b[39;49m\u001b[43m_selector\u001b[49m\u001b[38;5;241;43m.\u001b[39;49m\u001b[43mselect\u001b[49m\u001b[43m(\u001b[49m\u001b[43mtimeout\u001b[49m\u001b[43m)\u001b[49m\n\u001b[1;32m    107\u001b[0m \u001b[38;5;28mself\u001b[39m\u001b[38;5;241m.\u001b[39m_process_events(event_list)\n\u001b[1;32m    109\u001b[0m end_time \u001b[38;5;241m=\u001b[39m \u001b[38;5;28mself\u001b[39m\u001b[38;5;241m.\u001b[39mtime() \u001b[38;5;241m+\u001b[39m \u001b[38;5;28mself\u001b[39m\u001b[38;5;241m.\u001b[39m_clock_resolution\n",
      "File \u001b[0;32m/usr/lib/python3.10/selectors.py:469\u001b[0m, in \u001b[0;36mEpollSelector.select\u001b[0;34m(self, timeout)\u001b[0m\n\u001b[1;32m    467\u001b[0m ready \u001b[38;5;241m=\u001b[39m []\n\u001b[1;32m    468\u001b[0m \u001b[38;5;28;01mtry\u001b[39;00m:\n\u001b[0;32m--> 469\u001b[0m     fd_event_list \u001b[38;5;241m=\u001b[39m \u001b[38;5;28;43mself\u001b[39;49m\u001b[38;5;241;43m.\u001b[39;49m\u001b[43m_selector\u001b[49m\u001b[38;5;241;43m.\u001b[39;49m\u001b[43mpoll\u001b[49m\u001b[43m(\u001b[49m\u001b[43mtimeout\u001b[49m\u001b[43m,\u001b[49m\u001b[43m \u001b[49m\u001b[43mmax_ev\u001b[49m\u001b[43m)\u001b[49m\n\u001b[1;32m    470\u001b[0m \u001b[38;5;28;01mexcept\u001b[39;00m \u001b[38;5;167;01mInterruptedError\u001b[39;00m:\n\u001b[1;32m    471\u001b[0m     \u001b[38;5;28;01mreturn\u001b[39;00m ready\n",
      "\u001b[0;31mKeyboardInterrupt\u001b[0m: "
     ]
    }
   ],
   "source": [
    "import asyncio\n",
    "cond = True\n",
    "\n",
    "async def flash_leds():\n",
    "    global cond, start\n",
    "    while cond:\n",
    "        led4.write(0x1)\n",
    "        led5.write(0x7)\n",
    "        await asyncio.sleep(0.1)\n",
    "        led4.write(0x0)\n",
    "        led5.write(0x0)\n",
    "        await asyncio.sleep(0.05)\n",
    "        led4.write(0x1)\n",
    "        led5.write(0x7)\n",
    "        await asyncio.sleep(0.1)\n",
    "        led4.write(0x0)\n",
    "        led5.write(0x0)\n",
    "        await asyncio.sleep(0.05)\n",
    "\n",
    "        led4.write(0x7)\n",
    "        led5.write(0x4)\n",
    "        await asyncio.sleep(0.1)\n",
    "        led4.write(0x0)\n",
    "        led5.write(0x0)\n",
    "        await asyncio.sleep(0.05)\n",
    "        led4.write(0x7)\n",
    "        led5.write(0x4)\n",
    "        await asyncio.sleep(0.1)\n",
    "        led4.write(0x0)\n",
    "        led5.write(0x0)\n",
    "        await asyncio.sleep(0.05)\n",
    "\n",
    "async def get_btns(_loop):\n",
    "    global cond, start\n",
    "    while cond:\n",
    "        await asyncio.sleep(0.01)\n",
    "        if btns.read() != 0:\n",
    "            _loop.stop()\n",
    "            cond = False\n",
    "\n",
    "loop = asyncio.new_event_loop()\n",
    "loop.create_task(flash_leds())\n",
    "loop.create_task(get_btns(loop))\n",
    "loop.run_forever()\n",
    "loop.close()        \n",
    "led4.write(0x0)\n",
    "led5.write(0x0)\n",
    "print(\"Done.\")"
   ]
  },
  {
   "cell_type": "markdown",
   "metadata": {},
   "source": [
    "# Lab work\n",
    "Using the code from previous cell as a template, write a code to start the blinking when button 0 is pushed and stop the blinking when button 1 is pushed."
   ]
  },
  {
   "cell_type": "code",
   "execution_count": null,
   "metadata": {},
   "outputs": [],
   "source": [
    "# write your code here."
   ]
  },
  {
   "cell_type": "code",
   "execution_count": 6,
   "metadata": {},
   "outputs": [
    {
     "name": "stdout",
     "output_type": "stream",
     "text": [
      "Program terminated.\n"
     ]
    }
   ],
   "source": [
    "import asyncio\n",
    "from pynq.overlays.base import BaseOverlay\n",
    "import pynq.lib.rgbled as rgbled\n",
    "\n",
    "# Initialize the board\n",
    "base = BaseOverlay(\"base.bit\")\n",
    "btns = base.btns_gpio\n",
    "led4 = rgbled.RGBLED(4)\n",
    "led5 = rgbled.RGBLED(5)\n",
    "\n",
    "# Global control variables\n",
    "is_blinking = False\n",
    "program_running = True\n",
    "\n",
    "async def flash_leds():\n",
    "    global is_blinking\n",
    "    while program_running:\n",
    "        if is_blinking:\n",
    "            # First pattern\n",
    "            led4.write(0x1)\n",
    "            led5.write(0x7)\n",
    "            await asyncio.sleep(0.1)\n",
    "            led4.write(0x0)\n",
    "            led5.write(0x0)\n",
    "            await asyncio.sleep(0.05)\n",
    "            led4.write(0x1)\n",
    "            led5.write(0x7)\n",
    "            await asyncio.sleep(0.1)\n",
    "            led4.write(0x0)\n",
    "            led5.write(0x0)\n",
    "            await asyncio.sleep(0.05)\n",
    "\n",
    "            # Second pattern\n",
    "            led4.write(0x7)\n",
    "            led5.write(0x4)\n",
    "            await asyncio.sleep(0.1)\n",
    "            led4.write(0x0)\n",
    "            led5.write(0x0)\n",
    "            await asyncio.sleep(0.05)\n",
    "            led4.write(0x7)\n",
    "            led5.write(0x4)\n",
    "            await asyncio.sleep(0.1)\n",
    "            led4.write(0x0)\n",
    "            led5.write(0x0)\n",
    "            await asyncio.sleep(0.05)\n",
    "        else:\n",
    "            # When not blinking, just wait a bit and check again\n",
    "            led4.write(0x0)\n",
    "            led5.write(0x0)\n",
    "            await asyncio.sleep(0.1)\n",
    "\n",
    "async def check_buttons(_loop):\n",
    "    global is_blinking, program_running\n",
    "    while program_running:\n",
    "        await asyncio.sleep(0.01)\n",
    "        button_state = btns.read()\n",
    "        \n",
    "        # Check for button 0 (start blinking)\n",
    "        if button_state & 0x1:  # Button 0 is pressed\n",
    "            is_blinking = True\n",
    "            \n",
    "        # Check for button 1 (stop blinking)\n",
    "        if button_state & 0x2:  # Button 1 is pressed\n",
    "            is_blinking = False\n",
    "            \n",
    "        # Optional: Check for button 3 to exit program\n",
    "        if button_state & 0x8:  # Button 3 is pressed\n",
    "            program_running = False\n",
    "            _loop.stop()\n",
    "\n",
    "# Set up and run the event loop\n",
    "loop = asyncio.new_event_loop()\n",
    "loop.create_task(flash_leds())\n",
    "loop.create_task(check_buttons(loop))\n",
    "loop.run_forever()\n",
    "loop.close()\n",
    "\n",
    "# Clean up\n",
    "led4.write(0x0)\n",
    "led5.write(0x0)\n",
    "print(\"Program terminated.\")"
   ]
  },
  {
   "cell_type": "code",
   "execution_count": null,
   "metadata": {},
   "outputs": [],
   "source": []
  }
 ],
 "metadata": {
  "kernelspec": {
   "display_name": "Python 3 (ipykernel)",
   "language": "python",
   "name": "python3"
  },
  "language_info": {
   "codemirror_mode": {
    "name": "ipython",
    "version": 3
   },
   "file_extension": ".py",
   "mimetype": "text/x-python",
   "name": "python",
   "nbconvert_exporter": "python",
   "pygments_lexer": "ipython3",
   "version": "3.10.4"
  }
 },
 "nbformat": 4,
 "nbformat_minor": 2
}
