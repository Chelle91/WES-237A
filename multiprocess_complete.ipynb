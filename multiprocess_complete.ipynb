{
 "cells": [
  {
   "cell_type": "markdown",
   "metadata": {},
   "source": [
    "# multiprocessing\n",
    "importing required libraries and our shared library"
   ]
  },
  {
   "cell_type": "code",
   "execution_count": 1,
   "metadata": {},
   "outputs": [],
   "source": [
    "import ctypes\n",
    "import multiprocessing\n",
    "import os\n",
    "import time"
   ]
  },
  {
   "cell_type": "code",
   "execution_count": 2,
   "metadata": {},
   "outputs": [],
   "source": [
    "_libInC = ctypes.CDLL('./libMyLib.so')"
   ]
  },
  {
   "cell_type": "markdown",
   "metadata": {},
   "source": [
    "Here, we slightly adjust our Python wrapper to calculate the results and print it. There is also some additional casting to ensure that the result of the _libInC.myAdd()_ is an int32 type."
   ]
  },
  {
   "cell_type": "code",
   "execution_count": 3,
   "metadata": {},
   "outputs": [],
   "source": [
    "def addC_print(_i, a, b, time_started):\n",
    "    val = ctypes.c_int32(_libInC.myAdd(a, b)).value #cast the result to a 32 bit integer\n",
    "    end_time = time.time()\n",
    "    print('CPU_{} Add: {} in {}'.format(_i, val, end_time - time_started))\n",
    "    \n",
    "def multC_print(_i, a, b, time_started):\n",
    "    val = ctypes.c_int32(_libInC.myMult(a, b)).value #cast the result to a 32 bit integer\n",
    "    end_time = time.time()\n",
    "    print('CPU_{} Multiply: {} in {}'.format(_i, val, end_time - time_started))"
   ]
  },
  {
   "cell_type": "markdown",
   "metadata": {},
   "source": [
    "Now for the fun stuff.\n",
    "\n",
    "The multiprocessing library allows us to run simultaneous code by utilizing multiple processes. These processes are handled in separate memory spaces and are not restricted to the Global Interpreter Lock (GIL). \n",
    "\n",
    "Here we define two proceses, one to run the _addC_print_ and another to run the _multC_print()_ wrappers. \n",
    "\n",
    "Next we assign each process to be run on difference CPUs"
   ]
  },
  {
   "cell_type": "code",
   "execution_count": 4,
   "metadata": {},
   "outputs": [
    {
     "name": "stderr",
     "output_type": "stream",
     "text": [
      "taskset: invalid PID argument: 'None'\n",
      "taskset: invalid PID argument: 'None'\n",
      "Process Process-2:\n",
      "Traceback (most recent call last):\n",
      "  File \"/usr/lib/python3.10/multiprocessing/process.py\", line 315, in _bootstrap\n",
      "    self.run()\n",
      "  File \"/usr/lib/python3.10/multiprocessing/process.py\", line 108, in run\n",
      "    self._target(*self._args, **self._kwargs)\n",
      "  File \"/tmp/ipykernel_15617/3695538479.py\", line 7, in multC_print\n",
      "    val = ctypes.c_int32(_libInC.myMult(a, b)).value #cast the result to a 32 bit integer\n",
      "  File \"/usr/lib/python3.10/ctypes/__init__.py\", line 387, in __getattr__\n",
      "    func = self.__getitem__(name)\n",
      "  File \"/usr/lib/python3.10/ctypes/__init__.py\", line 392, in __getitem__\n",
      "    func = self._FuncPtr((name_or_ordinal, self))\n",
      "AttributeError: ./libMyLib.so: undefined symbol: myMult\n"
     ]
    },
    {
     "name": "stdout",
     "output_type": "stream",
     "text": [
      "CPU_0 Add: 8 in 4.079009294509888\n",
      "Process 1 with name, Process-1, is finished\n",
      "Process 2 with name, Process-2, is finished\n"
     ]
    }
   ],
   "source": [
    "procs = [] # a future list of all our processes\n",
    "\n",
    "# Launch process1 on CPU0\n",
    "p1_start = time.time()\n",
    "p1 = multiprocessing.Process(target=addC_print, args=(0, 3, 5, p1_start)) # the first arg defines which CPU to run the 'target' on\n",
    "os.system(\"taskset -p -c {} {}\".format(0, p1.pid)) # taskset is an os command to pin the process to a specific CPU\n",
    "p1.start() # start the process\n",
    "procs.append(p1)\n",
    "\n",
    "# Launch process2 on CPU1\n",
    "p2_start = time.time()\n",
    "p2 = multiprocessing.Process(target=multC_print, args=(1, 3, 5, p2_start)) # the first arg defines which CPU to run the 'target' on\n",
    "os.system(\"taskset -p -c {} {}\".format(1, p2.pid)) # taskset is an os command to pin the process to a specific CPU\n",
    "p2.start() # start the process\n",
    "procs.append(p2)\n",
    "\n",
    "p1Name = p1.name # get process1 name\n",
    "p2Name = p2.name # get process2 name\n",
    "\n",
    "# Here we wait for process1 to finish then wait for process2 to finish\n",
    "p1.join() # wait for process1 to finish\n",
    "print('Process 1 with name, {}, is finished'.format(p1Name))\n",
    "\n",
    "p2.join() # wait for process2 to finish\n",
    "print('Process 2 with name, {}, is finished'.format(p2Name))"
   ]
  },
  {
   "cell_type": "markdown",
   "metadata": {},
   "source": [
    "Return to 'main.c' and change the amount of sleep time (in seconds) of each function.\n",
    "\n",
    "For different values of sleep(), explain the difference between the results of the ‘Add’ and ‘Multiply’ functions and when the Processes are finished."
   ]
  },
  {
   "cell_type": "markdown",
   "metadata": {},
   "source": [
    "# Lab work\n",
    "\n",
    "One way around the GIL in order to share memory objects is to use multiprocessing objects. Here, we're going to do the following.\n",
    "\n",
    "1. Create a multiprocessing array object with 2 entries of integer type.\n",
    "2. Launch 1 process to compute addition and 1 process to compute multiplication.\n",
    "3. Assign the results to separate positions in the array.\n",
    "  1. Process 1 (add) is stored in index 0 of the array (array[0])\n",
    "  2. Process 2 (mult) is stored in index 1 of the array (array[1])\n",
    "4. Print the results from the array.\n",
    "\n",
    "\n",
    "Thus, the multiprocessing Array object exists in a _shared memory_ space so both processes can access it.\n",
    "\n",
    "## Array documentation:\n",
    "\n",
    "https://docs.python.org/2/library/multiprocessing.html#multiprocessing.Array\n",
    "\n",
    "\n",
    "## typecodes/types for Array:\n",
    "'c': ctypes.c_char\n",
    "\n",
    "'b': ctypes.c_byte\n",
    "\n",
    "'B': ctypes.c_ubyte\n",
    "\n",
    "'h': ctypes.c_short\n",
    "\n",
    "'H': ctypes.c_ushort\n",
    "\n",
    "'i': ctypes.c_int\n",
    "\n",
    "'I': ctypes.c_uint\n",
    "\n",
    "'l': ctypes.c_long\n",
    "\n",
    "'L': ctypes.c_ulong\n",
    "\n",
    "'f': ctypes.c_float\n",
    "\n",
    "'d': ctypes.c_double\n",
    "\n",
    "## Try to find an example\n",
    "\n",
    "You can use online reources to find an example for how to use multiprocessing Array "
   ]
  },
  {
   "cell_type": "code",
   "execution_count": 9,
   "metadata": {},
   "outputs": [
    {
     "name": "stderr",
     "output_type": "stream",
     "text": [
      "taskset: invalid PID argument: 'None'\n",
      "taskset: invalid PID argument: 'None'\n"
     ]
    },
    {
     "name": "stdout",
     "output_type": "stream",
     "text": [
      "Process-7 is finished\n",
      "Process-8 is finished\n",
      "Addition result (returnValues[0]): 8\n",
      "Multiplication result (returnValues[1]): 15\n"
     ]
    }
   ],
   "source": [
    "import ctypes\n",
    "import multiprocessing\n",
    "import os\n",
    "import time\n",
    "\n",
    "# Load the shared library\n",
    "_libInC = ctypes.CDLL('./libMyLib.so')\n",
    "\n",
    "def addC_store(_i, a, b, returnValues):\n",
    "    '''\n",
    "    Params:\n",
    "      _i   : Index of the process being run (0)\n",
    "      a, b : Integers to add\n",
    "      returnValues : Multiprocessing array in which we will store the result at index _i\n",
    "    '''\n",
    "    val = ctypes.c_int32(_libInC.myAdd(a, b)).value\n",
    "    # Store the result in the shared array at index _i\n",
    "    returnValues[_i] = val\n",
    "    \n",
    "def multC_store(_i, a, b, returnValues):\n",
    "    '''\n",
    "    Params:\n",
    "      _i   : Index of the process being run (1)\n",
    "      a, b : Integers to multiply\n",
    "      returnValues : Multiprocessing array in which we will store the result at index _i\n",
    "    '''\n",
    "    val = ctypes.c_int32(_libInC.multiply(a, b)).value\n",
    "    # Store the result in the shared array at index _i\n",
    "    returnValues[_i] = val\n",
    "\n",
    "# 1. Create a multiprocessing array object with 2 entries of integer type\n",
    "returnValues = multiprocessing.Array('i', 2)  # 'i' is the typecode for integers (c_int)\n",
    "\n",
    "procs = []\n",
    "\n",
    "# 2. Launch 1 process to compute addition \n",
    "p1_start = time.time()\n",
    "p1 = multiprocessing.Process(target=addC_store, args=(0, 3, 5, returnValues))\n",
    "os.system(\"taskset -p -c {} {}\".format(0, p1.pid))  # Assign to CPU 0\n",
    "p1.start()\n",
    "procs.append(p1)\n",
    "\n",
    "# 2. Launch 1 process to compute multiplication\n",
    "p2_start = time.time()\n",
    "p2 = multiprocessing.Process(target=multC_store, args=(1, 3, 5, returnValues))\n",
    "os.system(\"taskset -p -c {} {}\".format(1, p2.pid))  # Assign to CPU 1\n",
    "p2.start()\n",
    "procs.append(p2)\n",
    "\n",
    "# Wait for the processes to finish\n",
    "for p in procs:\n",
    "    pName = p.name\n",
    "    p.join()\n",
    "    print('{} is finished'.format(pName))\n",
    "\n",
    "# 4. Print the results from the array\n",
    "print(\"Addition result (returnValues[0]): {}\".format(returnValues[0]))\n",
    "print(\"Multiplication result (returnValues[1]): {}\".format(returnValues[1]))"
   ]
  },
  {
   "cell_type": "code",
   "execution_count": 10,
   "metadata": {},
   "outputs": [
    {
     "name": "stderr",
     "output_type": "stream",
     "text": [
      "taskset: invalid PID argument: 'None'\n",
      "taskset: invalid PID argument: 'None'\n",
      "Process Process-10:\n",
      "Traceback (most recent call last):\n",
      "  File \"/usr/lib/python3.10/multiprocessing/process.py\", line 315, in _bootstrap\n",
      "    self.run()\n",
      "  File \"/usr/lib/python3.10/multiprocessing/process.py\", line 108, in run\n",
      "    self._target(*self._args, **self._kwargs)\n",
      "  File \"/tmp/ipykernel_15617/1155083652.py\", line 19, in multC_no_print\n",
      "    val = ctypes.c_int32(_libInC.myMult(a, b)).value\n",
      "  File \"/usr/lib/python3.10/ctypes/__init__.py\", line 387, in __getattr__\n",
      "    func = self.__getitem__(name)\n",
      "  File \"/usr/lib/python3.10/ctypes/__init__.py\", line 392, in __getitem__\n",
      "    func = self._FuncPtr((name_or_ordinal, self))\n",
      "AttributeError: ./libMyLib.so: undefined symbol: myMult\n"
     ]
    },
    {
     "name": "stdout",
     "output_type": "stream",
     "text": [
      "Process-9 is finished\n",
      "Process-10 is finished\n",
      "CPU_0: 8\n",
      "CPU_1: 0\n"
     ]
    }
   ],
   "source": [
    "def addC_no_print(_i, a, b, returnValues):\n",
    "    '''\n",
    "    Params:\n",
    "      _i   : Index of the process being run (0 or 1)\n",
    "      a, b : Integers to add\n",
    "      returnValues : Multiprocessing array in which we will store the result at index _i\n",
    "    '''\n",
    "    val = ctypes.c_int32(_libInC.myAdd(a, b)).value\n",
    "    # TODO: add code here to pass val to correct position returnValues\n",
    "    returnValues[_i] = val\n",
    "    \n",
    "def multC_no_print(_i, a, b, returnValues):\n",
    "    '''\n",
    "    Params:\n",
    "      _i   : Index of the process being run (0 or 1)\n",
    "      a, b : Integers to multiply\n",
    "      returnValues : Multiprocessing array in which we will store the result at index _i\n",
    "    '''\n",
    "    val = ctypes.c_int32(_libInC.myMult(a, b)).value\n",
    "    # TODO: add code here to pass val to correct position of returnValues\n",
    "    returnValues[_i] = val\n",
    "    \n",
    "procs = []\n",
    "\n",
    "# TODO: define returnValues here. Check the multiprocessing docs to see \n",
    "# about initializing an array object for 2 processes. \n",
    "# Note the data type that will be stored in the array\n",
    "returnValues = multiprocessing.Array('i', 2)  # 'i' is the typecode for c_int (integer)\n",
    "\n",
    "\n",
    "p1 = multiprocessing.Process(target=addC_no_print, args=(0, 3, 5, returnValues)) # the first arg defines which CPU to run the 'target' on\n",
    "os.system(\"taskset -p -c {} {}\".format(0, p1.pid)) # taskset is an os command to pin the process to a specific CPU\n",
    "p1.start() # start the process\n",
    "procs.append(p1)\n",
    "\n",
    "p2 = multiprocessing.Process(target=multC_no_print, args=(1, 3, 5, returnValues)) # the first arg defines which CPU to run the 'target' on\n",
    "os.system(\"taskset -p -c {} {}\".format(1, p2.pid)) # taskset is an os command to pin the process to a specific CPU\n",
    "p2.start() # start the process\n",
    "procs.append(p2)\n",
    "\n",
    "# Wait for the processes to finish\n",
    "for p in procs:\n",
    "    pName = p.name # get process name\n",
    "    p.join() # wait for the process to finish\n",
    "    print('{} is finished'.format(pName))\n",
    "\n",
    "# TODO print the results that have been stored in returnValues\n",
    "print(\"CPU_0: {}\".format(returnValues[0]))  # Print addition result\n",
    "print(\"CPU_1: {}\".format(returnValues[1]))  # Print multiplication result"
   ]
  },
  {
   "cell_type": "code",
   "execution_count": null,
   "metadata": {},
   "outputs": [],
   "source": []
  }
 ],
 "metadata": {
  "kernelspec": {
   "display_name": "Python 3 (ipykernel)",
   "language": "python",
   "name": "python3"
  },
  "language_info": {
   "codemirror_mode": {
    "name": "ipython",
    "version": 3
   },
   "file_extension": ".py",
   "mimetype": "text/x-python",
   "name": "python",
   "nbconvert_exporter": "python",
   "pygments_lexer": "ipython3",
   "version": "3.10.4"
  }
 },
 "nbformat": 4,
 "nbformat_minor": 2
}
